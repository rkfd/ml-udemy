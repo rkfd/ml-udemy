{
 "metadata": {
  "language_info": {
   "codemirror_mode": {
    "name": "ipython",
    "version": 3
   },
   "file_extension": ".py",
   "mimetype": "text/x-python",
   "name": "python",
   "nbconvert_exporter": "python",
   "pygments_lexer": "ipython3",
   "version": "3.8.6-final"
  },
  "orig_nbformat": 2,
  "kernelspec": {
   "name": "python38664bit3caab577c6b346b58dc2c39c8ecdc208",
   "display_name": "Python 3.8.6 64-bit",
   "language": "python"
  }
 },
 "nbformat": 4,
 "nbformat_minor": 2,
 "cells": [
  {
   "cell_type": "code",
   "execution_count": 10,
   "metadata": {},
   "outputs": [],
   "source": [
    "# import libraries\n",
    "import tensorflow as tf\n",
    "import numpy as np\n",
    "\n",
    "from keras.preprocessing.image import ImageDataGenerator\n",
    "from keras.preprocessing import image"
   ]
  },
  {
   "cell_type": "code",
   "execution_count": 5,
   "metadata": {},
   "outputs": [
    {
     "output_type": "stream",
     "name": "stdout",
     "text": [
      "Found 8000 images belonging to 2 classes.\n"
     ]
    }
   ],
   "source": [
    "# preprocessing the train set\n",
    "train_datagen = ImageDataGenerator(rescale=1./255, shear_range=0.2, zoom_range=0.2, horizontal_flip=True)\n",
    "\n",
    "train_set = train_datagen.flow_from_directory('dataset/train_set', target_size=(64, 64), batch_size=32, class_mode='binary')"
   ]
  },
  {
   "cell_type": "code",
   "execution_count": 6,
   "metadata": {},
   "outputs": [
    {
     "output_type": "stream",
     "name": "stdout",
     "text": [
      "Found 2000 images belonging to 2 classes.\n"
     ]
    }
   ],
   "source": [
    "# preprocessing the test set\n",
    "test_datagen = ImageDataGenerator(rescale=1./255)\n",
    "test_set = test_datagen.flow_from_directory('dataset/test_set', target_size=(64, 64), batch_size=32, class_mode='binary')"
   ]
  },
  {
   "cell_type": "code",
   "execution_count": 7,
   "metadata": {},
   "outputs": [],
   "source": [
    "# build the cnn\n",
    "cnn = tf.keras.models.Sequential() # init\n",
    "\n",
    "cnn.add(tf.keras.layers.Conv2D(filters=32, kernel_size=3, activation='relu', input_shape=[64, 64, 3])) # convolution\n",
    "\n",
    "cnn.add(tf.keras.layers.MaxPool2D(pool_size=2, strides=2)) # pooling\n",
    "\n",
    "cnn.add(tf.keras.layers.Conv2D(filters=32, kernel_size=3, activation='relu')) # second convolutional layer\n",
    "\n",
    "cnn.add(tf.keras.layers.MaxPool2D(pool_size=2, strides=2)) # second pooling layer\n",
    "\n",
    "cnn.add(tf.keras.layers.Flatten()) # flattening\n",
    "\n",
    "cnn.add(tf.keras.layers.Dense(units=128, activation='relu')) # full connection\n",
    "\n",
    "cnn.add(tf.keras.layers.Dense(units=1, activation='sigmoid')) # output layer"
   ]
  },
  {
   "cell_type": "code",
   "execution_count": 8,
   "metadata": {},
   "outputs": [],
   "source": [
    "# compile the cnn\n",
    "cnn.compile(optimizer='adam', loss='binary_crossentropy', metrics=['accuracy'])"
   ]
  },
  {
   "cell_type": "code",
   "execution_count": 9,
   "metadata": {},
   "outputs": [
    {
     "output_type": "stream",
     "name": "stdout",
     "text": [
      "Epoch 1/25\n",
      "250/250 [==============================] - 51s 202ms/step - loss: 0.6839 - accuracy: 0.5728 - val_loss: 0.7147 - val_accuracy: 0.6025\n",
      "Epoch 2/25\n",
      "250/250 [==============================] - 49s 198ms/step - loss: 0.5925 - accuracy: 0.6780 - val_loss: 0.5739 - val_accuracy: 0.7025\n",
      "Epoch 3/25\n",
      "250/250 [==============================] - 46s 184ms/step - loss: 0.5545 - accuracy: 0.7100 - val_loss: 0.5493 - val_accuracy: 0.7215\n",
      "Epoch 4/25\n",
      "250/250 [==============================] - 46s 184ms/step - loss: 0.5314 - accuracy: 0.7396 - val_loss: 0.5011 - val_accuracy: 0.7570\n",
      "Epoch 5/25\n",
      "250/250 [==============================] - 46s 182ms/step - loss: 0.5089 - accuracy: 0.7466 - val_loss: 0.4968 - val_accuracy: 0.7645\n",
      "Epoch 6/25\n",
      "250/250 [==============================] - 46s 183ms/step - loss: 0.4691 - accuracy: 0.7723 - val_loss: 0.5033 - val_accuracy: 0.7690\n",
      "Epoch 7/25\n",
      "250/250 [==============================] - 46s 184ms/step - loss: 0.4777 - accuracy: 0.7743 - val_loss: 0.5010 - val_accuracy: 0.7655\n",
      "Epoch 8/25\n",
      "250/250 [==============================] - 46s 182ms/step - loss: 0.4475 - accuracy: 0.7812 - val_loss: 0.4859 - val_accuracy: 0.7600\n",
      "Epoch 9/25\n",
      "250/250 [==============================] - 46s 182ms/step - loss: 0.4273 - accuracy: 0.7959 - val_loss: 0.4609 - val_accuracy: 0.7955\n",
      "Epoch 10/25\n",
      "250/250 [==============================] - 44s 177ms/step - loss: 0.4003 - accuracy: 0.8149 - val_loss: 0.4609 - val_accuracy: 0.7905\n",
      "Epoch 11/25\n",
      "250/250 [==============================] - 44s 175ms/step - loss: 0.3919 - accuracy: 0.8174 - val_loss: 0.4629 - val_accuracy: 0.7920\n",
      "Epoch 12/25\n",
      "250/250 [==============================] - 47s 187ms/step - loss: 0.3992 - accuracy: 0.8174 - val_loss: 0.5157 - val_accuracy: 0.7605\n",
      "Epoch 13/25\n",
      "250/250 [==============================] - 45s 179ms/step - loss: 0.3615 - accuracy: 0.8346 - val_loss: 0.4537 - val_accuracy: 0.7925\n",
      "Epoch 14/25\n",
      "250/250 [==============================] - 44s 178ms/step - loss: 0.3513 - accuracy: 0.8399 - val_loss: 0.4555 - val_accuracy: 0.8110\n",
      "Epoch 15/25\n",
      "250/250 [==============================] - 46s 182ms/step - loss: 0.3365 - accuracy: 0.8529 - val_loss: 0.4738 - val_accuracy: 0.7965\n",
      "Epoch 16/25\n",
      "250/250 [==============================] - 45s 179ms/step - loss: 0.3283 - accuracy: 0.8604 - val_loss: 0.4811 - val_accuracy: 0.7935\n",
      "Epoch 17/25\n",
      "250/250 [==============================] - 44s 177ms/step - loss: 0.3071 - accuracy: 0.8612 - val_loss: 0.4775 - val_accuracy: 0.7925\n",
      "Epoch 18/25\n",
      "250/250 [==============================] - 45s 179ms/step - loss: 0.3001 - accuracy: 0.8717 - val_loss: 0.4914 - val_accuracy: 0.7945\n",
      "Epoch 19/25\n",
      "250/250 [==============================] - 45s 179ms/step - loss: 0.2756 - accuracy: 0.8856 - val_loss: 0.4925 - val_accuracy: 0.7940\n",
      "Epoch 20/25\n",
      "250/250 [==============================] - 45s 179ms/step - loss: 0.2649 - accuracy: 0.8883 - val_loss: 0.5021 - val_accuracy: 0.7820\n",
      "Epoch 21/25\n",
      "250/250 [==============================] - 46s 183ms/step - loss: 0.2670 - accuracy: 0.8872 - val_loss: 0.4955 - val_accuracy: 0.7960\n",
      "Epoch 22/25\n",
      "250/250 [==============================] - 47s 188ms/step - loss: 0.2428 - accuracy: 0.9020 - val_loss: 0.5947 - val_accuracy: 0.7750\n",
      "Epoch 23/25\n",
      "250/250 [==============================] - 48s 193ms/step - loss: 0.2339 - accuracy: 0.9026 - val_loss: 0.4901 - val_accuracy: 0.8050\n",
      "Epoch 24/25\n",
      "250/250 [==============================] - 47s 189ms/step - loss: 0.2104 - accuracy: 0.9146 - val_loss: 0.5624 - val_accuracy: 0.7985\n",
      "Epoch 25/25\n",
      "250/250 [==============================] - 48s 190ms/step - loss: 0.2058 - accuracy: 0.9117 - val_loss: 0.5438 - val_accuracy: 0.8105\n"
     ]
    },
    {
     "output_type": "execute_result",
     "data": {
      "text/plain": [
       "<tensorflow.python.keras.callbacks.History at 0x7f3ae4558af0>"
      ]
     },
     "metadata": {},
     "execution_count": 9
    }
   ],
   "source": [
    "# train a validate the cnn\n",
    "cnn.fit(x=train_set, validation_data=test_set, epochs=25)"
   ]
  },
  {
   "cell_type": "code",
   "execution_count": 13,
   "metadata": {},
   "outputs": [
    {
     "output_type": "stream",
     "name": "stdout",
     "text": [
      "dog\n"
     ]
    }
   ],
   "source": [
    "# make a single prediction\n",
    "test_image = image.load_img('dataset/single_prediction/cat_or_dog_1.jpg', target_size=(64, 64))\n",
    "test_image = image.img_to_array(test_image)\n",
    "test_image = np.expand_dims(test_image, axis=0)\n",
    "result = cnn.predict(test_image)\n",
    "train_set.class_indices\n",
    "if result[0][0] == 1:\n",
    "    prediction = 'dog'\n",
    "else:\n",
    "    prediction = 'cat'\n",
    "\n",
    "print(prediction)"
   ]
  }
 ]
}